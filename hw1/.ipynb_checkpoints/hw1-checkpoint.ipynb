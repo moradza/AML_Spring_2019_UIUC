{
 "cells": [
  {
   "cell_type": "markdown",
   "metadata": {},
   "source": [
    "# AML Spring 2019\n",
    "\n",
    "[description](https://courses.engr.illinois.edu/cs498aml/sp2019/homeworks/homework1.html)"
   ]
  },
  {
   "cell_type": "code",
   "execution_count": 2,
   "metadata": {},
   "outputs": [],
   "source": [
    "\"\"\"\n",
    "HW 1 of Applied Machine Learning UIUC Spring 2019\n",
    "\"\"\"\n",
    "import numpy as np\n",
    "import matplotlib.pyplot as plt\n",
    "from scipy.stats import norm\n",
    "import math\n",
    "import csv\n",
    "import pandas as pd\n",
    "from sklearn.preprocessing import binarize\n",
    "# import the required libraries\n",
    "import pandas as pd\n",
    "import numpy as np\n",
    "import cv2\n",
    "import matplotlib.pyplot as plt\n",
    "from scipy.stats import norm\n",
    "import math\n",
    "import random\n",
    "from sklearn.model_selection import train_test_split\n",
    "from sklearn.tree import DecisionTreeClassifier\n",
    "from sklearn.metrics import accuracy_score\n",
    "from sklearn.naive_bayes import GaussianNB, BernoulliNB\n",
    "from sklearn.ensemble import RandomForestClassifier\n",
    "from sklearn.preprocessing import binarize"
   ]
  },
  {
   "cell_type": "code",
   "execution_count": 2,
   "metadata": {},
   "outputs": [],
   "source": [
    "class DataManager():\n",
    "    def __init__(self,X, Y):\n",
    "        self.X = X\n",
    "        self.Y = Y\n",
    "    def split(self, train_fraction=0.8):\n",
    "        n_train = int(self.X.shape[0]*train_fraction)\n",
    "        A = np.random.permutation(self.X.shape[0])\n",
    "        return self.X[A[:n_train],:], self.Y[A[:n_train]], self.X[A[n_train:],:], self.Y[A[n_train:]]\n",
    "        "
   ]
  },
  {
   "cell_type": "code",
   "execution_count": 85,
   "metadata": {},
   "outputs": [],
   "source": [
    "class NaiveBayes():\n",
    "    def __init__(self, X,Y, model_p='GNB'):\n",
    "        self.model_p = 'GNB'\n",
    "        self.train_model(X, Y)\n",
    "    def train_model(self, X,Y):\n",
    "        self.n_class = np.unique(Y).shape[0]\n",
    "        N, d = X.shape\n",
    "        \n",
    "        self.p_class = np.array([np.where(Y==i)[0].shape[0] for i in range(self.n_class)])/N # per class probability\n",
    "        self.mean_class = np.array([np.nanmean(X[np.where(Y==i)[0],:], axis=0) for i in range(self.n_class)]) #mean of class conditional prob. \n",
    "        self.std_class = np.array([np.nanstd(X[np.where(Y==i)[0],:], axis=0) for i in range(self.n_class)]) # std of class conditional prob.\n",
    "        \n",
    "        #return self.p_class, self.mean_class, self.std_class\n",
    "    def pred(self,X):\n",
    "        if self.model_p == \"GNB\":   # code for Gaussian model\n",
    "            score_matrix = np.array([])\n",
    "            for i in np.arange(self.n_class):\n",
    "                score_vec = np.nansum(np.log(norm.pdf(X,self.mean_class[i,:],self.std_class[i,:])),axis=1)+np.log(self.p_class[i])\n",
    "                score_matrix = np.append(score_matrix, score_vec, axis=0)\n",
    "            score_matrix = score_matrix.reshape((self.n_class, len(X)))\n",
    "            y_pred = score_matrix.argmax(axis=0)\n",
    "            return y_pred\n",
    "        elif self._model_p == \"BNB\":\n",
    "            self.X = binarize(X, threshold=0)\n",
    "            y_pred = np.zeros(X.shape[0]) # \n",
    "            for row in np.arange(X.shape[0]):\n",
    "                prob_matrix = np.zeros(self.p_class.shape)\n",
    "                for i in np.arange(self.n_class):\n",
    "                    prob_matrix[i] = self.mean_class[i]* self.X[row] + (1-self.mean_class[i])* (1-self.X[row])\n",
    "                score_vec = np.nansum(np.log(prob_matrix),axis=1)+np.log(self.p_class[i])\n",
    "            y_pred[row] = score_vec.argmax()\n",
    "            \n",
    "            return y_pred\n",
    "        \n",
    "    def get_accuracy(self, X,Y):\n",
    "        y_pred = self.pred(X)\n",
    "        return np.where(y_pred==Y)[0].shape[0]/Y.shape[0]"
   ]
  },
  {
   "cell_type": "markdown",
   "metadata": {},
   "source": [
    "# Part 1 A"
   ]
  },
  {
   "cell_type": "code",
   "execution_count": 86,
   "metadata": {},
   "outputs": [],
   "source": [
    "# load data\n",
    "data = pd.read_csv('pima-indians-diabetes.csv')\n",
    "data0 = data.replace(0, np.nan)\n",
    "data0 = data0.values\n",
    "data =np.array(data)\n",
    "\n",
    "np.where(np.isnan(data))\n",
    "data0_lr =  DataManager(data0[:,:-1], data[:,-1].astype(int))\n",
    "data_lr = DataManager(data[:,:-1], data[:,-1].astype(int))"
   ]
  },
  {
   "cell_type": "code",
   "execution_count": 87,
   "metadata": {},
   "outputs": [],
   "source": [
    "def get_accuracy():\n",
    "    X_train, Y_train, X_test, Y_test = data_lr.split()\n",
    "    nb = NaiveBayes(X_train, Y_train)\n",
    "    return [nb.get_accuracy(X_train,Y_train), nb.get_accuracy(X_test,Y_test)]\n",
    "def get_accuracy0():\n",
    "    X_train, Y_train, X_test, Y_test = data0_lr.split()\n",
    "    nb = NaiveBayes(X_train, Y_train)\n",
    "    return [nb.get_accuracy(X_train,Y_train), nb.get_accuracy(X_test,Y_test)]\n",
    "    "
   ]
  },
  {
   "cell_type": "code",
   "execution_count": 88,
   "metadata": {},
   "outputs": [
    {
     "name": "stdout",
     "output_type": "stream",
     "text": [
      "Part 1A: avarage accuracy: 0.7590909090909091 , StdDev: 0.026208358533260492\n",
      "Part 1A: avarage accuracy: 0.7532467532467532 , StdDev: 0.018819969800246035\n"
     ]
    }
   ],
   "source": [
    "n_splits = 10\n",
    "acc_train_test = [[get_accuracy()] for i in range(10)]\n",
    "print('Part 1A: avarage accuracy: {} , StdDev: {}'.format(np.mean(acc_train_test, axis=0)[0][1], np.std(acc_train_test, axis=0)[0][1]))\n",
    "\n",
    "n_splits = 10\n",
    "acc_train_test = [[get_accuracy0()] for i in range(10)]\n",
    "print('Part 1A: avarage accuracy: {} , StdDev: {}'.format(np.mean(acc_train_test, axis=0)[0][1], np.std(acc_train_test, axis=0)[0][1]))"
   ]
  },
  {
   "cell_type": "markdown",
   "metadata": {},
   "source": [
    "# Part 1 B"
   ]
  },
  {
   "cell_type": "code",
   "execution_count": 89,
   "metadata": {},
   "outputs": [],
   "source": [
    "n_cols = [2,3,5,7]\n",
    "# load data\n",
    "data = pd.read_csv('pima-indians-diabetes.csv')\n",
    "data0 = data.replace(0, np.nan)\n",
    "data0 = data0.values\n",
    "data =np.array(data)\n",
    "\n",
    "np.where(np.isnan(data))\n",
    "data0_lr =  DataManager(data0[:,n_cols], data[:,-1].astype(int))\n",
    "data_lr = DataManager(data[:,n_cols], data[:,-1].astype(int))\n"
   ]
  },
  {
   "cell_type": "code",
   "execution_count": 90,
   "metadata": {},
   "outputs": [],
   "source": [
    "def get_accuracy():\n",
    "    X_train, Y_train, X_test, Y_test = data_lr.split()\n",
    "    nb = NaiveBayes(X_train, Y_train)\n",
    "    return [nb.get_accuracy(X_train,Y_train), nb.get_accuracy(X_test,Y_test)]\n",
    "def get_accuracy0():\n",
    "    X_train, Y_train, X_test, Y_test = data0_lr.split()\n",
    "    nb = NaiveBayes(X_train, Y_train)\n",
    "    return [nb.get_accuracy(X_train,Y_train), nb.get_accuracy(X_test,Y_test)]\n",
    "    "
   ]
  },
  {
   "cell_type": "code",
   "execution_count": 91,
   "metadata": {},
   "outputs": [
    {
     "name": "stdout",
     "output_type": "stream",
     "text": [
      "Part 1A: avarage accuracy: 0.6779220779220779 , StdDev: 0.027884299420238807\n",
      "Part 1A: avarage accuracy: 0.6792207792207792 , StdDev: 0.036409989010068027\n"
     ]
    }
   ],
   "source": [
    "n_splits = 10\n",
    "acc_train_test = [[get_accuracy()] for i in range(10)]\n",
    "print('Part 1A: avarage accuracy: {} , StdDev: {}'.format(np.mean(acc_train_test, axis=0)[0][1], np.std(acc_train_test, axis=0)[0][1]))\n",
    "\n",
    "n_splits = 10\n",
    "acc_train_test = [[get_accuracy0()] for i in range(10)]\n",
    "print('Part 1A: avarage accuracy: {} , StdDev: {}'.format(np.mean(acc_train_test, axis=0)[0][1], np.std(acc_train_test, axis=0)[0][1]))\n"
   ]
  },
  {
   "cell_type": "markdown",
   "metadata": {},
   "source": [
    "# Part 2 A"
   ]
  },
  {
   "cell_type": "code",
   "execution_count": 92,
   "metadata": {},
   "outputs": [],
   "source": [
    "def image_stretch(images):\n",
    "    images_number,pixels_number=images.shape\n",
    "    origin=np.array(images, copy=True) \n",
    "    stretched=np.zeros((images_number,20*20))\n",
    "    for i in range(images_number):\n",
    "        vis=np.reshape(images[i],(28,28)).astype(np.uint8)\n",
    "        ret,thresh = cv2.threshold(vis,30,255,0)\n",
    "        contours,hierarchy = cv2.findContours(thresh, 1,2)\n",
    "        x_min=255\n",
    "        y_min=255\n",
    "        x_max=0\n",
    "        y_max=0\n",
    "        for c in contours:\n",
    "            x,y,w,h=cv2.boundingRect(c)\n",
    "            x_min=min(x_min,x)\n",
    "            x_max=max(x_max,x+w)\n",
    "            y_min=min(y_min,y)\n",
    "            y_max=max(y_max,y+h)\n",
    "        crop_img = vis[y:y_max, x:x_max]\n",
    "        stretched_image = cv2.resize(crop_img,(20,20))\n",
    "        stretched[i] = stretched_image.flatten()\n",
    "    return stretched"
   ]
  },
  {
   "cell_type": "code",
   "execution_count": 93,
   "metadata": {},
   "outputs": [
    {
     "name": "stdout",
     "output_type": "stream",
     "text": [
      "Image Data Shape (70000, 784)\n",
      "Label Data Shape (70000,)\n"
     ]
    }
   ],
   "source": [
    "# import mnist data into python\n",
    "from sklearn.datasets import fetch_openml\n",
    "mnist = fetch_openml('mnist_784', version=1, cache=True)\n",
    "X = mnist.data\n",
    "y = mnist.target.astype(np.int)\n",
    "\n",
    "print(\"Image Data Shape\" , X.shape)\n",
    "print(\"Label Data Shape\", y.shape)"
   ]
  },
  {
   "cell_type": "code",
   "execution_count": 94,
   "metadata": {},
   "outputs": [
    {
     "data": {
      "text/plain": [
       "((56000, 784), (56000,), (14000, 784), (14000,))"
      ]
     },
     "execution_count": 94,
     "metadata": {},
     "output_type": "execute_result"
    }
   ],
   "source": [
    "data_lr = DataManager(X,y)\n",
    "X_train, y_train, X_test, y_test = data_lr.split()\n",
    "X_train.shape, y_train.shape, X_test.shape, y_test.shape"
   ]
  },
  {
   "cell_type": "code",
   "execution_count": 95,
   "metadata": {},
   "outputs": [
    {
     "data": {
      "image/png": "[encoded data removed]",
      "text/plain": [
       "<Figure size 1440x288 with 5 Axes>"
      ]
     },
     "metadata": {
      "needs_background": "light"
     },
     "output_type": "display_data"
    }
   ],
   "source": [
    "# plot few images to explore dataset\n",
    "plt.figure(figsize=(20,4))\n",
    "for index, (image, label) in enumerate(zip(X_train[0:5], y_train[0:5])):\n",
    "    plt.subplot(1, 5, index + 1)\n",
    "    plt.imshow(np.reshape(image, (28,28)), cmap=plt.cm.gray)\n",
    "    plt.title('Training: %i\\n' % label, fontsize = 20)"
   ]
  },
  {
   "cell_type": "code",
   "execution_count": 96,
   "metadata": {},
   "outputs": [],
   "source": [
    "streched = image_stretch(X)\n",
    "# streched_test = image_stretch(X_test)"
   ]
  },
  {
   "cell_type": "code",
   "execution_count": 97,
   "metadata": {},
   "outputs": [
    {
     "data": {
      "image/png": "[encoded data removed]",
      "text/plain": [
       "<Figure size 1440x288 with 5 Axes>"
      ]
     },
     "metadata": {
      "needs_background": "light"
     },
     "output_type": "display_data"
    }
   ],
   "source": [
    "# plot few images to explore dataset\n",
    "plt.figure(figsize=(20,4))\n",
    "for index, (image, label) in enumerate(zip(streched_train[0:5], y_train[0:5])):\n",
    "    plt.subplot(1, 5, index + 1)\n",
    "    plt.imshow(np.reshape(image, (20,20)), cmap=plt.cm.gray)\n",
    "    plt.title('Training: %i\\n' % label, fontsize = 20)"
   ]
  },
  {
   "cell_type": "markdown",
   "metadata": {},
   "source": [
    "## Part 2A Naive Bayes Classifier"
   ]
  },
  {
   "cell_type": "code",
   "execution_count": 98,
   "metadata": {},
   "outputs": [
    {
     "name": "stderr",
     "output_type": "stream",
     "text": [
      "<ipython-input-85-0f5db288d47e>:18: RuntimeWarning: divide by zero encountered in log\n",
      "  score_vec = np.nansum(np.log(norm.pdf(X,self.mean_class[i,:],self.std_class[i,:])),axis=1)+np.log(self.p_class[i])\n"
     ]
    },
    {
     "name": "stdout",
     "output_type": "stream",
     "text": [
      "Part 2A, GNB Untouched: avarage accuracy: 0.64915 , StdDev: 0.005451404050558791\n"
     ]
    }
   ],
   "source": [
    "# GaussianNB + Untouched dataset\n",
    "def get_accuracy():\n",
    "    X_train, Y_train, X_test, Y_test = data_lr.split()\n",
    "    nb = NaiveBayes(X_train, Y_train)\n",
    "    return [nb.get_accuracy(X_train,Y_train), nb.get_accuracy(X_test,Y_test)]\n",
    "\n",
    "n_splits = 10\n",
    "acc_train_test = [[get_accuracy()] for i in range(10)]\n",
    "print('Part 2A, GNB Untouched: avarage accuracy: {} , StdDev: {}'.format(np.mean(acc_train_test, axis=0)[0][1], np.std(acc_train_test, axis=0)[0][1]))\n"
   ]
  },
  {
   "cell_type": "code",
   "execution_count": 99,
   "metadata": {},
   "outputs": [
    {
     "name": "stderr",
     "output_type": "stream",
     "text": [
      "<ipython-input-85-0f5db288d47e>:18: RuntimeWarning: divide by zero encountered in log\n",
      "  score_vec = np.nansum(np.log(norm.pdf(X,self.mean_class[i,:],self.std_class[i,:])),axis=1)+np.log(self.p_class[i])\n"
     ]
    },
    {
     "name": "stdout",
     "output_type": "stream",
     "text": [
      "Part 2A, BNB Untouched: avarage accuracy: 0.6486285714285714 , StdDev: 0.005454617964886007\n"
     ]
    }
   ],
   "source": [
    "def get_accuracy():\n",
    "    X_train, Y_train, X_test, Y_test = data_lr.split()\n",
    "    nb = NaiveBayes(X_train, Y_train, 'BNB')\n",
    "    return [nb.get_accuracy(X_train,Y_train), nb.get_accuracy(X_test,Y_test)]\n",
    "\n",
    "n_splits = 10\n",
    "acc_train_test = [[get_accuracy()] for i in range(10)]\n",
    "print('Part 2A, BNB Untouched: avarage accuracy: {} , StdDev: {}'.format(np.mean(acc_train_test, axis=0)[0][1], np.std(acc_train_test, axis=0)[0][1]))\n"
   ]
  },
  {
   "cell_type": "code",
   "execution_count": null,
   "metadata": {},
   "outputs": [],
   "source": []
  },
  {
   "cell_type": "code",
   "execution_count": 100,
   "metadata": {},
   "outputs": [
    {
     "name": "stderr",
     "output_type": "stream",
     "text": [
      "<ipython-input-85-0f5db288d47e>:18: RuntimeWarning: divide by zero encountered in log\n",
      "  score_vec = np.nansum(np.log(norm.pdf(X,self.mean_class[i,:],self.std_class[i,:])),axis=1)+np.log(self.p_class[i])\n"
     ]
    },
    {
     "name": "stdout",
     "output_type": "stream",
     "text": [
      "Part 2A, GNB touched: avarage accuracy: 0.8280357142857142 , StdDev: 0.002877295002361095\n"
     ]
    }
   ],
   "source": [
    "data_lr = DataManager(streched,y)\n",
    "\n",
    "# Gaussian + touched dataset\n",
    "def get_accuracy():\n",
    "    X_train, Y_train, X_test, Y_test = data_lr.split()\n",
    "    nb = NaiveBayes(X_train, Y_train)\n",
    "    return [nb.get_accuracy(X_train,Y_train), nb.get_accuracy(X_test,Y_test)]\n",
    "\n",
    "n_splits = 10\n",
    "acc_train_test = [[get_accuracy()] for i in range(10)]\n",
    "print('Part 2A, GNB touched: avarage accuracy: {} , StdDev: {}'.format(np.mean(acc_train_test, axis=0)[0][1], np.std(acc_train_test, axis=0)[0][1]))\n"
   ]
  },
  {
   "cell_type": "code",
   "execution_count": 101,
   "metadata": {},
   "outputs": [
    {
     "name": "stderr",
     "output_type": "stream",
     "text": [
      "<ipython-input-85-0f5db288d47e>:18: RuntimeWarning: divide by zero encountered in log\n",
      "  score_vec = np.nansum(np.log(norm.pdf(X,self.mean_class[i,:],self.std_class[i,:])),axis=1)+np.log(self.p_class[i])\n"
     ]
    },
    {
     "name": "stdout",
     "output_type": "stream",
     "text": [
      "Part 2A, BNB touched: avarage accuracy: 0.8279142857142856 , StdDev: 0.003378020190609174\n"
     ]
    }
   ],
   "source": [
    "data_lr = DataManager(streched,y)\n",
    "\n",
    "# Gaussian + touched dataset\n",
    "def get_accuracy():\n",
    "    X_train, Y_train, X_test, Y_test = data_lr.split()\n",
    "    nb = NaiveBayes(X_train, Y_train, 'BNB')\n",
    "    return [nb.get_accuracy(X_train,Y_train), nb.get_accuracy(X_test,Y_test)]\n",
    "\n",
    "n_splits = 10\n",
    "acc_train_test = [[get_accuracy()] for i in range(10)]\n",
    "print('Part 2A, BNB touched: avarage accuracy: {} , StdDev: {}'.format(np.mean(acc_train_test, axis=0)[0][1], np.std(acc_train_test, axis=0)[0][1]))\n"
   ]
  },
  {
   "cell_type": "code",
   "execution_count": 1,
   "metadata": {},
   "outputs": [],
   "source": [
    "# X_bin = binarize(X, threshold=0)\n",
    "# X_bin[0][200:250], X[0][200:250]"
   ]
  },
  {
   "cell_type": "markdown",
   "metadata": {},
   "source": [
    "## Part 2B RandomForest Classifier"
   ]
  },
  {
   "cell_type": "code",
   "execution_count": 129,
   "metadata": {},
   "outputs": [],
   "source": [
    "accuracy ={}\n",
    "data_lr = DataManager(X,y)\n",
    "for tree in [10,30]:\n",
    "    for depth in [4, 16]:\n",
    "        name='depth_'+str(depth)+'_tree_'+str(tree)\n",
    "        accuracy[name] = []\n",
    "        for i in range(1):\n",
    "            clf = RandomForestClassifier(n_estimators=tree, max_depth=depth, random_state=0)\n",
    "            X_train, y_train, X_test, y_test = data_lr.split()\n",
    "            clf.fit(X_train, y_train)\n",
    "            accuracy[name].append(np.where(clf.predict(X_test)==y_test)[0].shape[0]/y_test.shape[0])"
   ]
  },
  {
   "cell_type": "code",
   "execution_count": 130,
   "metadata": {},
   "outputs": [
    {
     "data": {
      "text/plain": [
       "{'4_10': [0.7494285714285714],\n",
       " '16_10': [0.947],\n",
       " '4_30': [0.7930714285714285],\n",
       " '16_30': [0.9585]}"
      ]
     },
     "execution_count": 130,
     "metadata": {},
     "output_type": "execute_result"
    }
   ],
   "source": [
    "accuracy"
   ]
  },
  {
   "cell_type": "code",
   "execution_count": 131,
   "metadata": {},
   "outputs": [],
   "source": [
    "accuracy_streched ={}\n",
    "data_lr = DataManager(streched,y)\n",
    "for tree in [10,30]:\n",
    "    for depth in [4, 16]:\n",
    "        name='depth_'+str(depth)+'_tree_'+str(tree)\n",
    "        accuracy_streched[name] = []\n",
    "        for i in range(1):\n",
    "            clf = RandomForestClassifier(n_estimators=tree, max_depth=depth, random_state=0)\n",
    "            X_train, y_train, X_test, y_test = data_lr.split()\n",
    "            clf.fit(X_train, y_train)\n",
    "            accuracy_streched[name].append(np.where(clf.predict(X_test)==y_test)[0].shape[0]/y_test.shape[0])\n"
   ]
  },
  {
   "cell_type": "code",
   "execution_count": 132,
   "metadata": {},
   "outputs": [
    {
     "data": {
      "text/plain": [
       "{'4_10': [0.7455],\n",
       " '16_10': [0.9557142857142857],\n",
       " '4_30': [0.7901428571428571],\n",
       " '16_30': [0.9657142857142857]}"
      ]
     },
     "execution_count": 132,
     "metadata": {},
     "output_type": "execute_result"
    }
   ],
   "source": [
    "accuracy_streched"
   ]
  }
 ],
 "metadata": {
  "kernelspec": {
   "display_name": "Python 3",
   "language": "python",
   "name": "python3"
  },
  "language_info": {
   "codemirror_mode": {
    "name": "ipython",
    "version": 3
   },
   "file_extension": ".py",
   "mimetype": "text/x-python",
   "name": "python",
   "nbconvert_exporter": "python",
   "pygments_lexer": "ipython3",
   "version": "3.8.5"
  }
 },
 "nbformat": 4,
 "nbformat_minor": 4
}
